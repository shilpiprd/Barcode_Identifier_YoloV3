{
  "cells": [
    {
      "cell_type": "markdown",
      "metadata": {
        "id": "_khUcu5o3eam"
      },
      "source": [
        "# YoloV3 Barcode Detector"
      ]
    },
    {
      "cell_type": "code",
      "execution_count": null,
      "metadata": {
        "colab": {
          "base_uri": "https://localhost:8080/"
        },
        "id": "On7-2wpkx1iN",
        "outputId": "e06ce4a5-3189-457c-f340-2f63a141db31"
      },
      "outputs": [
        {
          "name": "stdout",
          "output_type": "stream",
          "text": [
            "Cloning into 'Barcode_Identifier_YoloV3'...\n",
            "remote: Enumerating objects: 1822, done.\u001b[K\n",
            "remote: Counting objects: 100% (63/63), done.\u001b[K\n",
            "remote: Compressing objects: 100% (57/57), done.\u001b[K\n",
            "remote: Total 1822 (delta 3), reused 62 (delta 3), pack-reused 1759\u001b[K\n",
            "Receiving objects: 100% (1822/1822), 247.84 MiB | 37.83 MiB/s, done.\n",
            "Resolving deltas: 100% (4/4), done.\n",
            "Updating files: 100% (2115/2115), done.\n"
          ]
        }
      ],
      "source": [
        "!git clone https://github.com/shilpiprd/Barcode_Identifier_YoloV3.git"
      ]
    },
    {
      "cell_type": "code",
      "execution_count": null,
      "metadata": {
        "colab": {
          "base_uri": "https://localhost:8080/"
        },
        "id": "F8zptXVjx345",
        "outputId": "6a0f67ca-4aae-4d3f-9877-aa8cb8e32822"
      },
      "outputs": [
        {
          "name": "stdout",
          "output_type": "stream",
          "text": [
            "Drive already mounted at /content/gdrive; to attempt to forcibly remount, call drive.mount(\"/content/gdrive\", force_remount=True).\n"
          ]
        }
      ],
      "source": [
        "from google.colab import drive\n",
        "drive.mount('/content/gdrive')"
      ]
    },
    {
      "cell_type": "code",
      "execution_count": null,
      "metadata": {
        "colab": {
          "base_uri": "https://localhost:8080/"
        },
        "id": "tky27BQJx7OU",
        "outputId": "5325fcf6-ad29-4c6f-9ac7-32d63ca76c4c"
      },
      "outputs": [
        {
          "name": "stdout",
          "output_type": "stream",
          "text": [
            "False\n"
          ]
        }
      ],
      "source": [
        "import torch\n",
        "print(torch.cuda.is_available())"
      ]
    },
    {
      "cell_type": "code",
      "execution_count": null,
      "metadata": {
        "colab": {
          "base_uri": "https://localhost:8080/"
        },
        "id": "HZzuhCOKx9Hn",
        "outputId": "39e1af2b-96d9-4e02-dbdf-aaec6dfcb04d"
      },
      "outputs": [
        {
          "name": "stdout",
          "output_type": "stream",
          "text": [
            "PyTorch 2.0.0+cu118 CPU\n"
          ]
        }
      ],
      "source": [
        "import time\n",
        "import glob\n",
        "import torch\n",
        "import os\n",
        "\n",
        "from IPython.display import Image, clear_output \n",
        "print('PyTorch %s %s' % (torch.__version__, torch.cuda.get_device_properties(0) if torch.cuda.is_available() else 'CPU'))"
      ]
    },
    {
      "cell_type": "code",
      "execution_count": null,
      "metadata": {
        "colab": {
          "base_uri": "https://localhost:8080/"
        },
        "id": "7pvvX-ojx92O",
        "outputId": "49b42125-3f3f-4baf-9f2b-9de26599d03e"
      },
      "outputs": [
        {
          "name": "stdout",
          "output_type": "stream",
          "text": [
            "Barcode_Identifier_YoloV3  drive  gdrive  sample_data\n"
          ]
        }
      ],
      "source": [
        "!ls"
      ]
    },
    {
      "cell_type": "code",
      "execution_count": null,
      "metadata": {
        "colab": {
          "base_uri": "https://localhost:8080/"
        },
        "id": "drTuqsYQyBKc",
        "outputId": "37ee0dd2-08a0-4cd8-f211-caf608b8748b"
      },
      "outputs": [
        {
          "name": "stdout",
          "output_type": "stream",
          "text": [
            "/content/Barcode_Identifier_YoloV3\n"
          ]
        }
      ],
      "source": [
        "cd Barcode_Identifier_YoloV3/"
      ]
    },
    {
      "cell_type": "code",
      "execution_count": null,
      "metadata": {
        "colab": {
          "base_uri": "https://localhost:8080/"
        },
        "id": "t0uUYjamyCDV",
        "outputId": "f596491b-eda6-4621-aedd-8371befdea34"
      },
      "outputs": [
        {
          "name": "stdout",
          "output_type": "stream",
          "text": [
            " cfg\t     output\t    results.png   train.py\n",
            " data\t     __pycache__    runs\t 'ubdivisions=1'\n",
            " detect.py   README.md\t    test.py\t  utils\n",
            " models.py   results.json   ting\t  vim.exe.stackdump\n"
          ]
        }
      ],
      "source": [
        "!ls"
      ]
    },
    {
      "cell_type": "code",
      "execution_count": null,
      "metadata": {
        "colab": {
          "background_save": true,
          "base_uri": "https://localhost:8080/"
        },
        "id": "P5MBICLAyLrr",
        "outputId": "c40f4733-3801-449c-e5ae-5b9c47f35c2f"
      },
      "outputs": [
        {
          "name": "stdout",
          "output_type": "stream",
          "text": [
            "Namespace(epochs=50, batch_size=10, accumulate=4, cfg='cfg/yolov3-custom.cfg', data='data/customdata/custom.data', multi_scale=False, img_size=[512], rect=False, resume=False, nosave=True, notest=False, evolve=False, bucket='', cache_images=True, weights='weights/yolov3-spp-ultralytics.pt', name='', device='', adam=False, single_cls=False)\n",
            "Using CPU\n",
            "\n",
            "2023-04-30 14:05:00.647920: I tensorflow/core/platform/cpu_feature_guard.cc:182] This TensorFlow binary is optimized to use available CPU instructions in performance-critical operations.\n",
            "To enable the following instructions: AVX2 FMA, in other operations, rebuild TensorFlow with the appropriate compiler flags.\n",
            "2023-04-30 14:05:03.570947: W tensorflow/compiler/tf2tensorrt/utils/py_utils.cc:38] TF-TRT Warning: Could not find TensorRT\n",
            "Run 'tensorboard --logdir=runs' to view tensorboard at http://localhost:6006/\n",
            "WARNING: smart bias initialization failure.\n",
            "WARNING: smart bias initialization failure.\n",
            "WARNING: smart bias initialization failure.\n",
            "Model Summary: 225 layers, 6.25733e+07 parameters, 6.25733e+07 gradients\n",
            "Caching labels (553 found, 0 missing, 273 empty, 0 duplicate, for 826 images): 100% 826/826 [00:00<00:00, 2042.23it/s]\n",
            "Caching images (0.6GB): 100% 826/826 [00:15<00:00, 52.74it/s]\n",
            "Caching labels (155 found, 0 missing, 53 empty, 0 duplicate, for 208 images): 100% 208/208 [00:00<00:00, 1809.87it/s]\n",
            "Caching images (0.1GB): 100% 208/208 [00:02<00:00, 79.33it/s]\n",
            "Image sizes 512 - 512 train, 512 test\n",
            "Using 2 dataloader workers\n",
            "Starting training for 50 epochs...\n",
            "\n",
            "     Epoch   gpu_mem      GIoU       obj       cls     total   targets  img_size\n",
            "      0/49        0G       5.4      11.5         0      16.9         6       512: 100% 83/83 [1:29:05<00:00, 64.41s/it]\n",
            "               Class    Images   Targets         P         R   mAP@0.5        F1:   0% 0/21 [00:00<?, ?it/s]/usr/local/lib/python3.10/dist-packages/torch/functional.py:504: UserWarning: torch.meshgrid: in an upcoming release, it will be required to pass the indexing argument. (Triggered internally at ../aten/src/ATen/native/TensorShape.cpp:3483.)\n",
            "  return _VF.meshgrid(tensors, **kwargs)  # type: ignore[attr-defined]\n",
            "               Class    Images   Targets         P         R   mAP@0.5        F1: 100% 21/21 [06:36<00:00, 18.89s/it]\n",
            "                 all       208       155         0         0   0.00673         0\n",
            "\n",
            "     Epoch   gpu_mem      GIoU       obj       cls     total   targets  img_size\n",
            "  0% 0/83 [00:00<?, ?it/s]^C\n"
          ]
        }
      ],
      "source": [
        "!python train.py --data data/customdata/custom.data --batch 10 --cache --cfg cfg/yolov3-custom.cfg --epochs 100 --nosave"
      ]
    },
    {
      "cell_type": "code",
      "execution_count": null,
      "metadata": {
        "id": "gpmv1TREyOWx"
      },
      "outputs": [],
      "source": [
        "!python detect.py --conf-thres 0.1 --output out_out #the out_out folder saves the detected images."
      ]
    },
    {
      "cell_type": "code",
      "execution_count": null,
      "metadata": {
        "id": "5lq4GIcWyRsE"
      },
      "outputs": [],
      "source": [
        "Image(filename='out_out/320201211_4178_rgb.png', width=600)"
      ]
    },
    {
      "cell_type": "code",
      "source": [
        "Image(filename='out_out/220201211_3090_rgb.png', width=600)"
      ],
      "metadata": {
        "id": "nb4NJPap1QHF"
      },
      "execution_count": null,
      "outputs": []
    }
  ],
  "metadata": {
    "colab": {
      "provenance": []
    },
    "kernelspec": {
      "display_name": "Python 3",
      "name": "python3"
    },
    "language_info": {
      "name": "python"
    }
  },
  "nbformat": 4,
  "nbformat_minor": 0
}